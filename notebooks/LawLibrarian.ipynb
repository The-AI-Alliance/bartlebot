{
  "cells": [
    {
      "cell_type": "markdown",
      "metadata": {
        "id": "pxZ6E40Nic_D"
      },
      "source": [
        "# Proscenium Legal Demo"
      ]
    },
    {
      "cell_type": "markdown",
      "metadata": {
        "id": "pC1daMacfHFr"
      },
      "source": [
        "This notebook demonstrates\n",
        "\n",
        "1. The use of an LLM to enrich of publically available legal opinions\n",
        "2. Entity resolution\n",
        "3. Query parsing\n",
        "4. Context formation for question answering"
      ]
    },
    {
      "cell_type": "markdown",
      "metadata": {
        "id": "lYmJfcxSjFFD"
      },
      "source": [
        "## Prerequisites\n",
        "\n",
        "1. Obtain a `TOGETHER_API_KEY` from https://together.ai/ and store it as an environment variable or Colab secret.\n",
        "2. Obtain a Neo4j Sandbox https://neo4j.com/sandbox/\n",
        "3. To run the slack integration, see the [Slack App Setup](https://github.com/The-AI-Alliance/proscenium/blob/main/docs/slack-app-setup.md) to obtain a Bot and App token\n",
        "\n"
      ]
    },
    {
      "cell_type": "markdown",
      "metadata": {
        "id": "v1yk5l_Yior5"
      },
      "source": [
        "## Setup"
      ]
    },
    {
      "cell_type": "code",
      "execution_count": null,
      "metadata": {
        "id": "BvWG9tliin4V",
        "collapsed": true
      },
      "outputs": [],
      "source": [
        "!git clone https://github.com/The-AI-Alliance/bartlebot.git"
      ]
    },
    {
      "cell_type": "code",
      "execution_count": null,
      "metadata": {
        "id": "r_INMy3YiHYq"
      },
      "outputs": [],
      "source": [
        "%cd bartlebot"
      ]
    },
    {
      "cell_type": "code",
      "execution_count": null,
      "metadata": {
        "id": "Inx7AN8biTEz",
        "scrolled": true,
        "collapsed": true
      },
      "outputs": [],
      "source": [
        "!python -m pip install ."
      ]
    },
    {
      "cell_type": "markdown",
      "metadata": {
        "id": "2pvzpAntuhsd"
      },
      "source": [
        "## Configure\n",
        "\n",
        "If you adjust the default provider from Together.AI to something else, change the `get_secret` line:\n"
      ]
    },
    {
      "cell_type": "code",
      "source": [
        "from proscenium.util import get_secret\n",
        "_ = get_secret(\"TOGETHER_API_KEY\")\n",
        "\n",
        "import logging\n",
        "log = logging.getLogger(__name__)\n",
        "log.setLevel(logging.INFO)\n",
        "logging.getLogger(\"proscenium\").setLevel(logging.INFO)\n",
        "logging.getLogger(\"bartlebot\").setLevel(logging.INFO)\n",
        "\n",
        "from proscenium.verbs.display import header\n",
        "from rich.console import Console\n",
        "console = Console()\n",
        "console.print(header())\n",
        "\n",
        "import nest_asyncio\n",
        "nest_asyncio.apply()\n",
        "\n",
        "import os\n",
        "os.environ[\"TOKENIZERS_PARALLELISM\"] = \"false\""
      ],
      "metadata": {
        "id": "suZFu6pK3I9N"
      },
      "execution_count": null,
      "outputs": []
    },
    {
      "cell_type": "code",
      "source": [
        "!cat bartlebot.yml"
      ],
      "metadata": {
        "id": "ll0C2tk8hcyS"
      },
      "execution_count": null,
      "outputs": []
    },
    {
      "cell_type": "markdown",
      "source": [
        "## Create Bartlebot Production, Scene, and Character"
      ],
      "metadata": {
        "id": "TdNLU5S7hzF3"
      }
    },
    {
      "cell_type": "code",
      "source": [
        "from pathlib import Path\n",
        "from bartlebot.bin import production_from_config\n",
        "\n",
        "config_path = Path(\"bartlebot.yml\")\n",
        "\n",
        "production, config = production_from_config(config_path, get_secret, console)"
      ],
      "metadata": {
        "id": "bW5mzihLhzf6"
      },
      "execution_count": null,
      "outputs": []
    },
    {
      "cell_type": "markdown",
      "metadata": {
        "id": "3I2O5JdZitcS"
      },
      "source": [
        "## Extract document enrichments\n"
      ]
    },
    {
      "cell_type": "code",
      "execution_count": null,
      "metadata": {
        "id": "iHlQMVr2iS41"
      },
      "outputs": [],
      "source": [
        "production.law_library.doc_enrichments.build()"
      ]
    },
    {
      "cell_type": "markdown",
      "metadata": {
        "id": "igdLPCURi4wp"
      },
      "source": [
        "## Load Knowledge Graph"
      ]
    },
    {
      "cell_type": "code",
      "execution_count": null,
      "metadata": {
        "id": "1QXRug_wiSxB"
      },
      "outputs": [],
      "source": [
        "production.law_library.case_law_knowledge_graph.build()"
      ]
    },
    {
      "cell_type": "markdown",
      "metadata": {
        "id": "Y62MCvToysZc"
      },
      "source": [
        "## Load Entity Resolvers"
      ]
    },
    {
      "cell_type": "code",
      "execution_count": null,
      "metadata": {
        "id": "4FGTKzaUiSr-",
        "collapsed": true
      },
      "outputs": [],
      "source": [
        "production.law_library.entity_resolvers.build()"
      ]
    },
    {
      "cell_type": "markdown",
      "metadata": {
        "id": "EYuhF8cozqGa"
      },
      "source": [
        "## Answer Question"
      ]
    },
    {
      "cell_type": "code",
      "execution_count": null,
      "metadata": {
        "id": "6vEIsmv90Fd1"
      },
      "outputs": [],
      "source": [
        "from bartlebot.scenes.law_library.query_handler import user_prompt\n",
        "\n",
        "print(user_prompt)"
      ]
    },
    {
      "cell_type": "code",
      "execution_count": null,
      "metadata": {
        "id": "1Pd0wgW0iSpY"
      },
      "outputs": [],
      "source": [
        "question = \"How has 291 A.2d 605 been used in NH caselaw?\""
      ]
    },
    {
      "cell_type": "code",
      "execution_count": null,
      "metadata": {
        "collapsed": true,
        "id": "oFka6ZSGDmZS"
      },
      "outputs": [],
      "source": [
        "from rich.panel import Panel\n",
        "\n",
        "for channel_id, answer in production.law_library.law_librarian.handle(None, None, question):\n",
        "    console.print(Panel(answer, title=\"Answer\"))"
      ]
    },
    {
      "cell_type": "markdown",
      "source": [
        "## Attach to Slack App"
      ],
      "metadata": {
        "id": "h4ZIAyq-mMka"
      }
    },
    {
      "cell_type": "code",
      "source": [
        "from proscenium.interfaces.slack import slack_main\n",
        "\n",
        "_ = get_secret(\"SLACK_APP_TOKEN\")\n",
        "_ = get_secret(\"SLACK_BOT_TOKEN\")\n",
        "\n",
        "# production.prepare_props()\n",
        "\n",
        "slack_main(production, config, console)"
      ],
      "metadata": {
        "id": "ZPwmXkosPOk4"
      },
      "execution_count": null,
      "outputs": []
    }
  ],
  "metadata": {
    "colab": {
      "provenance": []
    },
    "kernelspec": {
      "display_name": "Python 3 (ipykernel)",
      "language": "python",
      "name": "python3"
    },
    "language_info": {
      "codemirror_mode": {
        "name": "ipython",
        "version": 3
      },
      "file_extension": ".py",
      "mimetype": "text/x-python",
      "name": "python",
      "nbconvert_exporter": "python",
      "pygments_lexer": "ipython3",
      "version": "3.13.2"
    }
  },
  "nbformat": 4,
  "nbformat_minor": 0
}